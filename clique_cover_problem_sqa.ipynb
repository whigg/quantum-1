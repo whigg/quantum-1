{
  "nbformat": 4,
  "nbformat_minor": 0,
  "metadata": {
    "colab": {
      "name": "clique_cover_problem_sqa.ipynb",
      "provenance": [],
      "collapsed_sections": [],
      "toc_visible": true,
      "authorship_tag": "ABX9TyMuCy3x0FraBYLLac3Hhk1w",
      "include_colab_link": true
    },
    "kernelspec": {
      "name": "python3",
      "display_name": "Python 3"
    }
  },
  "cells": [
    {
      "cell_type": "markdown",
      "metadata": {
        "id": "view-in-github",
        "colab_type": "text"
      },
      "source": [
        "<a href=\"https://colab.research.google.com/github/yskmt2018/quantum/blob/master/clique_cover_problem_sqa.ipynb\" target=\"_parent\"><img src=\"https://colab.research.google.com/assets/colab-badge.svg\" alt=\"Open In Colab\"/></a>"
      ]
    },
    {
      "cell_type": "markdown",
      "metadata": {
        "id": "u0msp3jsjLzN",
        "colab_type": "text"
      },
      "source": [
        "# Clique Cover Problem with Simulated Quantum Annealing\n",
        "\n",
        "* This notebook was created and tested on Google Colaboratory. (2020/09)\n",
        "\n",
        "## Reference\n",
        "\n",
        "> https://openjij.github.io/OpenJijTutorial/build/html/ja/3-PyQUBO_2_OpenJij.html"
      ]
    },
    {
      "cell_type": "code",
      "metadata": {
        "id": "cSLi850RaW4Z",
        "colab_type": "code",
        "colab": {
          "base_uri": "https://localhost:8080/",
          "height": 34
        },
        "outputId": "12846e98-90cc-44a5-896a-a6b5ad1d1915"
      },
      "source": [
        "!python -V\n",
        "!pip install --quiet pyqubo openjij"
      ],
      "execution_count": 1,
      "outputs": [
        {
          "output_type": "stream",
          "text": [
            "Python 3.6.9\n"
          ],
          "name": "stdout"
        }
      ]
    },
    {
      "cell_type": "code",
      "metadata": {
        "id": "bFxML8R8jvii",
        "colab_type": "code",
        "colab": {}
      },
      "source": [
        "%matplotlib inline\n",
        "import random\n",
        "import pyqubo\n",
        "import networkx as nx\n",
        "import matplotlib.pyplot as plt\n",
        "from openjij import SQASampler"
      ],
      "execution_count": 2,
      "outputs": []
    },
    {
      "cell_type": "markdown",
      "metadata": {
        "id": "HmiSb4rZlX1X",
        "colab_type": "text"
      },
      "source": [
        "## Problem Settings\n",
        "\n",
        " グラフ$G=(V,E)$を$n$個のクリークで被覆できるかという問題。"
      ]
    },
    {
      "cell_type": "code",
      "metadata": {
        "id": "UA_XE8KelaHW",
        "colab_type": "code",
        "colab": {}
      },
      "source": [
        "def plot_graph(N, E, colors=None):\n",
        "  G = nx.Graph()\n",
        "  G.add_nodes_from([n for n in range(N)])\n",
        "  for (i, j) in E:\n",
        "    G.add_edge(i, j)\n",
        "  plt.figure(figsize=(10,10))\n",
        "  pos = nx.circular_layout(G)\n",
        "  colorlist = ['#e41a1c', '#377eb8', '#4daf4a', '#984ea3', '#ff7f00', '#ffff33', '#a65628', '#f781bf']\n",
        "  if colors:\n",
        "    nx.draw_networkx(G, pos, node_color=[colorlist[colors[node]] for node in G.nodes], node_size=400, font_weight='bold', font_color='w')\n",
        "  else:\n",
        "    nx.draw_networkx(G, pos, node_color=[colorlist[0] for _ in G.nodes], node_size=400, font_weight='bold', font_color='w')\n",
        "  plt.axis('off')\n",
        "  plt.show()"
      ],
      "execution_count": 3,
      "outputs": []
    },
    {
      "cell_type": "code",
      "metadata": {
        "id": "t1Y3No0cmOpV",
        "colab_type": "code",
        "colab": {}
      },
      "source": [
        "def random_edge(edge_number):\n",
        "  E = set()\n",
        "  while len(E) < edge_number:\n",
        "    f = random.randrange(0, V)\n",
        "    t = random.randrange(0, V)\n",
        "    if f != t:\n",
        "      E.add((f, t))\n",
        "  \n",
        "  return E"
      ],
      "execution_count": 4,
      "outputs": []
    },
    {
      "cell_type": "code",
      "metadata": {
        "id": "Gts7NyG0mQx8",
        "colab_type": "code",
        "colab": {
          "base_uri": "https://localhost:8080/",
          "height": 575
        },
        "outputId": "2131d807-7a66-49ab-932a-086c079a1ad5"
      },
      "source": [
        "# Vertex Number\n",
        "V = 8\n",
        "# Color Number\n",
        "K = 4\n",
        "# Edge\n",
        "E = random_edge(9)\n",
        "\n",
        "plot_graph(V, E)"
      ],
      "execution_count": 5,
      "outputs": [
        {
          "output_type": "display_data",
          "data": {
            "image/png": "[encoded data removed]",
            "text/plain": [
              "<Figure size 720x720 with 1 Axes>"
            ]
          },
          "metadata": {
            "tags": []
          }
        }
      ]
    },
    {
      "cell_type": "markdown",
      "metadata": {
        "id": "cKFaC0NSmiXv",
        "colab_type": "text"
      },
      "source": [
        "## Formulation\n",
        "\n",
        "* CCP の目的関数及び制約条件を定式化し、QUBO（Quadratic Unconstrained Binary Optimization）式を構築する。\n",
        "\n",
        "* QUBO 式の構築には、OSS ライブラリ PyQUBO（[GitHub](https://github.com/recruit-communications/pyqubo), [Documentation](https://pyqubo.readthedocs.io/en/latest/)）を用いる。"
      ]
    },
    {
      "cell_type": "markdown",
      "metadata": {
        "id": "WKeiOhF9ms2k",
        "colab_type": "text"
      },
      "source": [
        "### QUBO1: Objective Function\n",
        "\n",
        "* 目的関数：分割した部分グラフがどれだけクリーク（完全グラフ）に近いか\n",
        "\n",
        "$$\n",
        "\\sum^K_{k=1} \\left[\\frac{1}{2} \\left(-1 + \\sum_{v \\in V} x_{v,k} \\right)\\sum_{v \\in V} x_{v, k} - \\sum_{(u, v) \\in E} x_{u,k} x_{v, k} \\right]\n",
        "$$"
      ]
    },
    {
      "cell_type": "code",
      "metadata": {
        "id": "e555KC7emjt9",
        "colab_type": "code",
        "colab": {}
      },
      "source": [
        "def build_objective(x):\n",
        "  H = sum((-1 + sum(x[v, k] for v in range (V))) / 2 * \n",
        "          (sum(x[v, k] for v in range (V))) - sum(x[u, k] * x[v, k] for (u, v) in E) for k in range (1, K))\n",
        "  return H"
      ],
      "execution_count": 6,
      "outputs": []
    },
    {
      "cell_type": "markdown",
      "metadata": {
        "id": "WhKjAzYtnNZr",
        "colab_type": "text"
      },
      "source": [
        "### QUBO2: Onecolor rule\n",
        "\n",
        "* 制約条件：1つの頂点はただ1色に対応する。\n",
        "\n",
        "$$\n",
        "w\\sum_{v \\in V}\\left(1 - \\sum_{k = 1}^{K} x_{v,k}\\right)^2\n",
        "$$"
      ]
    },
    {
      "cell_type": "code",
      "metadata": {
        "id": "k-_wYtqJopO7",
        "colab_type": "code",
        "colab": {}
      },
      "source": [
        "def build_onecolor_rule(x):\n",
        "  H = pyqubo.Constraint(sum((1 - sum(x[v, k] for k in range(1, K))) ** 2 for v in range(V)), 'w')\n",
        "  return H"
      ],
      "execution_count": 7,
      "outputs": []
    },
    {
      "cell_type": "markdown",
      "metadata": {
        "id": "WRyZF3Wlrhvl",
        "colab_type": "text"
      },
      "source": [
        "### Hamiltonian\n",
        "\n",
        "* 目的関数及び制約条件からハミルトニアン H を以下のように定義する。\n",
        "\n",
        "$$\n",
        "H = \\sum^K_{k=1} \\left[\\frac{1}{2} \\left(-1 + \\sum_{v \\in V} x_{v,k} \\right)\\sum_{v \\in V} x_{v, k} - \\sum_{(u, v) \\in E} x_{u,k} x_{v, k} \\right]\n",
        "+w\\sum_{v \\in V}\\left(1 - \\sum_{k = 1}^{K} x_{v,k}\\right)^2\n",
        "$$"
      ]
    },
    {
      "cell_type": "code",
      "metadata": {
        "id": "df3BrUvnrcjO",
        "colab_type": "code",
        "colab": {}
      },
      "source": [
        "# Clique Cover\n",
        "x = pyqubo.Array.create('x', shape=(V, K), vartype='BINARY')"
      ],
      "execution_count": 8,
      "outputs": []
    },
    {
      "cell_type": "code",
      "metadata": {
        "id": "UlqByRdMrcmX",
        "colab_type": "code",
        "colab": {}
      },
      "source": [
        "H = build_objective(x) + \\\n",
        "    pyqubo.Placeholder('w') * build_onecolor_rule(x)"
      ],
      "execution_count": 9,
      "outputs": []
    },
    {
      "cell_type": "code",
      "metadata": {
        "id": "uIUxm0xisE99",
        "colab_type": "code",
        "colab": {}
      },
      "source": [
        "feed_dict = {'w': 1}"
      ],
      "execution_count": 10,
      "outputs": []
    },
    {
      "cell_type": "code",
      "metadata": {
        "id": "_Fbjq8desJy2",
        "colab_type": "code",
        "colab": {}
      },
      "source": [
        "model = H.compile()\n",
        "qubo, constant = model.to_qubo(feed_dict=feed_dict)"
      ],
      "execution_count": 11,
      "outputs": []
    },
    {
      "cell_type": "markdown",
      "metadata": {
        "id": "nmJC2SbasM_-",
        "colab_type": "text"
      },
      "source": [
        "## Execute Quantum Annealing\n",
        "\n",
        "* Sampler と呼ばれるモジュールを生成し、構築した QUBO 式を渡すことで、量子アニーリングを実行する。\n",
        "\n",
        "* 結果は、Response オブジェクトとして返却される。"
      ]
    },
    {
      "cell_type": "markdown",
      "metadata": {
        "id": "UH1D_qAvsVti",
        "colab_type": "text"
      },
      "source": [
        "### OpenJij\n",
        "\n",
        "* OpenJij（[GitHub](https://github.com/OpenJij/OpenJij), [Documentation](https://openjij.github.io/OpenJij_Documentation/build/html/), [Tutorial](https://openjij.github.io/OpenJijTutorial/build/html/ja/index.html)）\n",
        "\n",
        "* OSS として、量子アニーリングをシミュレートする SQA（Simulated Quantum Annealing）の Python 用 API を提供している。"
      ]
    },
    {
      "cell_type": "code",
      "metadata": {
        "id": "oARqwLL-sTfE",
        "colab_type": "code",
        "colab": {}
      },
      "source": [
        "sampler = SQASampler(num_reads=10)"
      ],
      "execution_count": 12,
      "outputs": []
    },
    {
      "cell_type": "code",
      "metadata": {
        "id": "iVoZnugWsbwc",
        "colab_type": "code",
        "colab": {
          "base_uri": "https://localhost:8080/",
          "height": 52
        },
        "outputId": "1813e5d9-9dbd-42a9-f9e6-334e03ab36cd"
      },
      "source": [
        "%%time\n",
        "response = sampler.sample_qubo(qubo)"
      ],
      "execution_count": 13,
      "outputs": [
        {
          "output_type": "stream",
          "text": [
            "CPU times: user 196 ms, sys: 0 ns, total: 196 ms\n",
            "Wall time: 203 ms\n"
          ],
          "name": "stdout"
        }
      ]
    },
    {
      "cell_type": "markdown",
      "metadata": {
        "id": "obpxB_mAsfRQ",
        "colab_type": "text"
      },
      "source": [
        "### Take Solutions\n",
        "\n",
        "* Response オブジェクトに格納されている量子アニーリングの結果（解）を取り出す。"
      ]
    },
    {
      "cell_type": "code",
      "metadata": {
        "id": "2eCqCejPsl1r",
        "colab_type": "code",
        "colab": {}
      },
      "source": [
        "def extract_samples(response):\n",
        "  solutions = []\n",
        "  energies = []\n",
        "  \n",
        "  for record in response.record:\n",
        "    sol, num_occ = record[0], record[2]\n",
        "    solution, broken, energy = model.decode_solution(dict(zip(response.variables, sol)), vartype='BINARY', feed_dict=feed_dict)\n",
        "    if len(broken) == 0:\n",
        "      solutions += [solution] * num_occ\n",
        "      energies += [energy] * num_occ\n",
        "  \n",
        "  return solutions, energies"
      ],
      "execution_count": 14,
      "outputs": []
    },
    {
      "cell_type": "code",
      "metadata": {
        "id": "XNGfaDjQsopm",
        "colab_type": "code",
        "colab": {}
      },
      "source": [
        "solutions, energies = extract_samples(response)\n",
        "best_solution = solutions[energies.index(min(energies))]"
      ],
      "execution_count": 15,
      "outputs": []
    },
    {
      "cell_type": "markdown",
      "metadata": {
        "id": "Lf-QFMKbuPLx",
        "colab_type": "text"
      },
      "source": [
        "### Print Graph Coloring\n",
        "\n",
        "* 各頂点の色を取得し、分割後のグラフを表示する。\n",
        "\n",
        "* 先に設定した制約条件が満たされていることを確認してください。\n",
        "\n",
        "> 1つの頂点はただ1色に対応する。"
      ]
    },
    {
      "cell_type": "code",
      "metadata": {
        "id": "d0kAMxdDsq81",
        "colab_type": "code",
        "colab": {
          "base_uri": "https://localhost:8080/",
          "height": 575
        },
        "outputId": "de67d803-99e9-4bb6-cbd9-d2ec970bce61"
      },
      "source": [
        "colors = [0 for v in range(V)]\n",
        "for v in range(V):\n",
        "  for k in range(1, K):\n",
        "    if best_solution['x'][v][k] == 1:\n",
        "      colors[v] = k\n",
        "      break\n",
        "\n",
        "plot_graph(V, E, colors)"
      ],
      "execution_count": 16,
      "outputs": [
        {
          "output_type": "display_data",
          "data": {
            "image/png": "[encoded data removed]",
            "text/plain": [
              "<Figure size 720x720 with 1 Axes>"
            ]
          },
          "metadata": {
            "tags": []
          }
        }
      ]
    }
  ]
}